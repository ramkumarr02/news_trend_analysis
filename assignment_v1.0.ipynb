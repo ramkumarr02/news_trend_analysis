{
 "cells": [
  {
   "cell_type": "markdown",
   "metadata": {},
   "source": [
    "# News Story Trend Analysis"
   ]
  },
  {
   "cell_type": "markdown",
   "metadata": {},
   "source": [
    "#### Import the required packages"
   ]
  },
  {
   "cell_type": "code",
   "execution_count": 1,
   "metadata": {},
   "outputs": [
    {
     "name": "stdout",
     "output_type": "stream",
     "text": [
      " Found and Using 1 GPU\n"
     ]
    }
   ],
   "source": [
    "from utils.packages import *\n",
    "from utils.data_prep import *\n",
    "from utils.modelling import *\n",
    "from config.variables import *"
   ]
  },
  {
   "cell_type": "markdown",
   "metadata": {},
   "source": [
    "#### Read data"
   ]
  },
  {
   "cell_type": "markdown",
   "metadata": {
    "scrolled": true
   },
   "source": [
    "Omitting the last record to avoid delimitation issue"
   ]
  },
  {
   "cell_type": "code",
   "execution_count": 2,
   "metadata": {
    "scrolled": true
   },
   "outputs": [],
   "source": [
    "data[\"df\"] = pd.read_csv('data/data.csv', nrows=8130)"
   ]
  },
  {
   "cell_type": "code",
   "execution_count": 3,
   "metadata": {},
   "outputs": [
    {
     "data": {
      "text/html": [
       "<div>\n",
       "<style scoped>\n",
       "    .dataframe tbody tr th:only-of-type {\n",
       "        vertical-align: middle;\n",
       "    }\n",
       "\n",
       "    .dataframe tbody tr th {\n",
       "        vertical-align: top;\n",
       "    }\n",
       "\n",
       "    .dataframe thead th {\n",
       "        text-align: right;\n",
       "    }\n",
       "</style>\n",
       "<table border=\"1\" class=\"dataframe\">\n",
       "  <thead>\n",
       "    <tr style=\"text-align: right;\">\n",
       "      <th></th>\n",
       "      <th>DATE</th>\n",
       "      <th>TIME</th>\n",
       "      <th>UNIQUE_STORY_INDEX</th>\n",
       "      <th>EVENT_TYPE</th>\n",
       "      <th>PNAC</th>\n",
       "      <th>STORY_DATE_TIME</th>\n",
       "      <th>TAKE_DATE_TIME</th>\n",
       "      <th>HEADLINE_ALERT_TEXT</th>\n",
       "      <th>ACCUMULATED_STORY_TEXT</th>\n",
       "      <th>TAKE_TEXT</th>\n",
       "      <th>PRODUCTS</th>\n",
       "      <th>TOPICS</th>\n",
       "      <th>RELATED_RICS</th>\n",
       "      <th>NAMED_ITEMS</th>\n",
       "      <th>HEADLINE_SUBTYPE</th>\n",
       "      <th>STORY_TYPE</th>\n",
       "      <th>TABULAR_FLAG</th>\n",
       "      <th>ATTRIBUTION</th>\n",
       "      <th>LANGUAGE</th>\n",
       "    </tr>\n",
       "  </thead>\n",
       "  <tbody>\n",
       "    <tr>\n",
       "      <th>0</th>\n",
       "      <td>2013-06-01</td>\n",
       "      <td>00:00:00.704</td>\n",
       "      <td>20130601000000nASA05F0W</td>\n",
       "      <td>ALERT</td>\n",
       "      <td>nASA05F0W</td>\n",
       "      <td>2013-06-01 00:00:00</td>\n",
       "      <td>2013-06-01 00:00:00</td>\n",
       "      <td>MERCATOR MINERALS ANNOUNCES SENIOR MANAGEMENT ...</td>\n",
       "      <td>NaN</td>\n",
       "      <td>NaN</td>\n",
       "      <td>E U CAN</td>\n",
       "      <td>MNGISS BACT MET BMAT MIN MINE MTAL CMPNY CA AM...</td>\n",
       "      <td>ML.TO</td>\n",
       "      <td>NaN</td>\n",
       "      <td>NaN</td>\n",
       "      <td>S</td>\n",
       "      <td>False</td>\n",
       "      <td>RTRS</td>\n",
       "      <td>EN</td>\n",
       "    </tr>\n",
       "    <tr>\n",
       "      <th>1</th>\n",
       "      <td>2013-06-01</td>\n",
       "      <td>00:00:00.885</td>\n",
       "      <td>20130601000001nS6N0A8042</td>\n",
       "      <td>ALERT</td>\n",
       "      <td>nS6N0A8042</td>\n",
       "      <td>2013-06-01 00:00:01</td>\n",
       "      <td>2013-06-01 00:00:01</td>\n",
       "      <td>S.KOREA SAYS MAY TRADE BALANCE AT PROVISIONAL ...</td>\n",
       "      <td>NaN</td>\n",
       "      <td>NaN</td>\n",
       "      <td>M D T E C MTL GRO SOF O</td>\n",
       "      <td>EMRG KR MCE ECI NEWS TRD ASIA TRACC LEN RTRS</td>\n",
       "      <td>KRIMGR=ECI KRTBAL=ECI 0#KRCOMP1=KQ KREXGR=ECI ...</td>\n",
       "      <td>NaN</td>\n",
       "      <td>NaN</td>\n",
       "      <td>S</td>\n",
       "      <td>False</td>\n",
       "      <td>RTRS</td>\n",
       "      <td>EN</td>\n",
       "    </tr>\n",
       "  </tbody>\n",
       "</table>\n",
       "</div>"
      ],
      "text/plain": [
       "         DATE          TIME        UNIQUE_STORY_INDEX EVENT_TYPE        PNAC  \\\n",
       "0  2013-06-01  00:00:00.704   20130601000000nASA05F0W      ALERT   nASA05F0W   \n",
       "1  2013-06-01  00:00:00.885  20130601000001nS6N0A8042      ALERT  nS6N0A8042   \n",
       "\n",
       "       STORY_DATE_TIME       TAKE_DATE_TIME  \\\n",
       "0  2013-06-01 00:00:00  2013-06-01 00:00:00   \n",
       "1  2013-06-01 00:00:01  2013-06-01 00:00:01   \n",
       "\n",
       "                                 HEADLINE_ALERT_TEXT ACCUMULATED_STORY_TEXT  \\\n",
       "0  MERCATOR MINERALS ANNOUNCES SENIOR MANAGEMENT ...                    NaN   \n",
       "1  S.KOREA SAYS MAY TRADE BALANCE AT PROVISIONAL ...                    NaN   \n",
       "\n",
       "  TAKE_TEXT                 PRODUCTS  \\\n",
       "0       NaN                  E U CAN   \n",
       "1       NaN  M D T E C MTL GRO SOF O   \n",
       "\n",
       "                                              TOPICS  \\\n",
       "0  MNGISS BACT MET BMAT MIN MINE MTAL CMPNY CA AM...   \n",
       "1       EMRG KR MCE ECI NEWS TRD ASIA TRACC LEN RTRS   \n",
       "\n",
       "                                        RELATED_RICS NAMED_ITEMS  \\\n",
       "0                                              ML.TO         NaN   \n",
       "1  KRIMGR=ECI KRTBAL=ECI 0#KRCOMP1=KQ KREXGR=ECI ...         NaN   \n",
       "\n",
       "   HEADLINE_SUBTYPE STORY_TYPE TABULAR_FLAG ATTRIBUTION LANGUAGE  \n",
       "0               NaN          S        False        RTRS       EN  \n",
       "1               NaN          S        False        RTRS       EN  "
      ]
     },
     "execution_count": 3,
     "metadata": {},
     "output_type": "execute_result"
    }
   ],
   "source": [
    "data[\"df\"].head(2)"
   ]
  },
  {
   "cell_type": "markdown",
   "metadata": {},
   "source": [
    "#### Languages"
   ]
  },
  {
   "cell_type": "code",
   "execution_count": 4,
   "metadata": {
    "scrolled": true
   },
   "outputs": [
    {
     "data": {
      "text/plain": [
       "EN    3782\n",
       "AR     736\n",
       "FR     584\n",
       "ZH     518\n",
       "JA     460\n",
       "DE     270\n",
       "KO     266\n",
       "ES     205\n",
       "TH     204\n",
       "PT      69\n",
       "RU      39\n",
       "TR      18\n",
       "PL      16\n",
       "NO      10\n",
       "DA       2\n",
       "SV       2\n",
       "Name: LANGUAGE, dtype: int64"
      ]
     },
     "execution_count": 4,
     "metadata": {},
     "output_type": "execute_result"
    }
   ],
   "source": [
    "data['df']['LANGUAGE'].value_counts()"
   ]
  },
  {
   "cell_type": "markdown",
   "metadata": {},
   "source": [
    "#### Other Language rows\n",
    "We can translate other languages to english using services like Microsoft Azure cognitive services. \n",
    "But considering the time available and English rows being the majority, I choose to subset the dateset with only English records"
   ]
  },
  {
   "cell_type": "code",
   "execution_count": 5,
   "metadata": {},
   "outputs": [
    {
     "name": "stdout",
     "output_type": "stream",
     "text": [
      "source csv file len with all lang rows : 8130\n",
      "source csv file len with only EN rows : 3782\n"
     ]
    }
   ],
   "source": [
    "print(f'source csv file len with all lang rows : {len(data[\"df\"])}')\n",
    "data['df'] = data['df'][data['df']['LANGUAGE'] == 'EN']\n",
    "print(f'source csv file len with only EN rows : {len(data[\"df\"])}')"
   ]
  },
  {
   "cell_type": "code",
   "execution_count": 12,
   "metadata": {},
   "outputs": [
    {
     "data": {
      "text/plain": [
       "TEST                     682\n",
       "S                        208\n",
       "S EMK PSC RNP DNP PSP    152\n",
       "IFRF FXBUZ BUZ           104\n",
       "ELN                       92\n",
       "                        ... \n",
       "E J U NAW EMK              1\n",
       "D T MNI NAT                1\n",
       "D T E U NAW Z              1\n",
       "E MEYE SNI SNS U NAW       1\n",
       "E MEYE SNI SNS             1\n",
       "Name: PRODUCTS, Length: 534, dtype: int64"
      ]
     },
     "execution_count": 12,
     "metadata": {},
     "output_type": "execute_result"
    }
   ],
   "source": [
    "data['df']['PRODUCTS'].value_counts()"
   ]
  },
  {
   "cell_type": "markdown",
   "metadata": {},
   "source": [
    "#### Test Records\n",
    "Filtering out test message rows as they dont have any valuable inputs"
   ]
  },
  {
   "cell_type": "code",
   "execution_count": 14,
   "metadata": {},
   "outputs": [
    {
     "name": "stdout",
     "output_type": "stream",
     "text": [
      "source csv file len with all lang rows : 3782\n",
      "source csv file len with only EN rows : 3100\n"
     ]
    }
   ],
   "source": [
    "print(f'source csv file len with all lang rows : {len(data[\"df\"])}')\n",
    "data['df'] = data['df'][data['df']['PRODUCTS'] != 'TEST']\n",
    "print(f'source csv file len with only EN rows : {len(data[\"df\"])}')"
   ]
  },
  {
   "cell_type": "code",
   "execution_count": 20,
   "metadata": {},
   "outputs": [],
   "source": [
    "data['df'].to_excel('data/reduced_data.xlsx')"
   ]
  },
  {
   "cell_type": "markdown",
   "metadata": {},
   "source": [
    "#### Highlevel description of data"
   ]
  },
  {
   "cell_type": "code",
   "execution_count": 16,
   "metadata": {},
   "outputs": [
    {
     "name": "stdout",
     "output_type": "stream",
     "text": [
      "<class 'pandas.core.frame.DataFrame'>\n",
      "Int64Index: 3100 entries, 0 to 8129\n",
      "Data columns (total 19 columns):\n",
      " #   Column                  Non-Null Count  Dtype  \n",
      "---  ------                  --------------  -----  \n",
      " 0   DATE                    3100 non-null   object \n",
      " 1   TIME                    3100 non-null   object \n",
      " 2   UNIQUE_STORY_INDEX      3100 non-null   object \n",
      " 3   EVENT_TYPE              3100 non-null   object \n",
      " 4   PNAC                    3100 non-null   object \n",
      " 5   STORY_DATE_TIME         3100 non-null   object \n",
      " 6   TAKE_DATE_TIME          1603 non-null   object \n",
      " 7   HEADLINE_ALERT_TEXT     3094 non-null   object \n",
      " 8   ACCUMULATED_STORY_TEXT  107 non-null    object \n",
      " 9   TAKE_TEXT               1497 non-null   object \n",
      " 10  PRODUCTS                3100 non-null   object \n",
      " 11  TOPICS                  3100 non-null   object \n",
      " 12  RELATED_RICS            878 non-null    object \n",
      " 13  NAMED_ITEMS             727 non-null    object \n",
      " 14  HEADLINE_SUBTYPE        1414 non-null   float64\n",
      " 15  STORY_TYPE              3100 non-null   object \n",
      " 16  TABULAR_FLAG            3100 non-null   object \n",
      " 17  ATTRIBUTION             3100 non-null   object \n",
      " 18  LANGUAGE                3100 non-null   object \n",
      "dtypes: float64(1), object(18)\n",
      "memory usage: 484.4+ KB\n"
     ]
    }
   ],
   "source": [
    "data[\"df\"].info()"
   ]
  },
  {
   "cell_type": "code",
   "execution_count": 21,
   "metadata": {},
   "outputs": [
    {
     "data": {
      "text/html": [
       "<div>\n",
       "<style scoped>\n",
       "    .dataframe tbody tr th:only-of-type {\n",
       "        vertical-align: middle;\n",
       "    }\n",
       "\n",
       "    .dataframe tbody tr th {\n",
       "        vertical-align: top;\n",
       "    }\n",
       "\n",
       "    .dataframe thead th {\n",
       "        text-align: right;\n",
       "    }\n",
       "</style>\n",
       "<table border=\"1\" class=\"dataframe\">\n",
       "  <thead>\n",
       "    <tr style=\"text-align: right;\">\n",
       "      <th></th>\n",
       "      <th>DATE</th>\n",
       "      <th>TIME</th>\n",
       "      <th>UNIQUE_STORY_INDEX</th>\n",
       "      <th>EVENT_TYPE</th>\n",
       "      <th>PNAC</th>\n",
       "      <th>STORY_DATE_TIME</th>\n",
       "      <th>TAKE_DATE_TIME</th>\n",
       "      <th>HEADLINE_ALERT_TEXT</th>\n",
       "      <th>ACCUMULATED_STORY_TEXT</th>\n",
       "      <th>TAKE_TEXT</th>\n",
       "      <th>PRODUCTS</th>\n",
       "      <th>TOPICS</th>\n",
       "      <th>RELATED_RICS</th>\n",
       "      <th>NAMED_ITEMS</th>\n",
       "      <th>HEADLINE_SUBTYPE</th>\n",
       "      <th>STORY_TYPE</th>\n",
       "      <th>TABULAR_FLAG</th>\n",
       "      <th>ATTRIBUTION</th>\n",
       "      <th>LANGUAGE</th>\n",
       "    </tr>\n",
       "  </thead>\n",
       "  <tbody>\n",
       "    <tr>\n",
       "      <th>0</th>\n",
       "      <td>2013-06-01</td>\n",
       "      <td>00:00:00.704</td>\n",
       "      <td>20130601000000nASA05F0W</td>\n",
       "      <td>ALERT</td>\n",
       "      <td>nASA05F0W</td>\n",
       "      <td>2013-06-01 00:00:00</td>\n",
       "      <td>2013-06-01 00:00:00</td>\n",
       "      <td>MERCATOR MINERALS ANNOUNCES SENIOR MANAGEMENT ...</td>\n",
       "      <td>NaN</td>\n",
       "      <td>NaN</td>\n",
       "      <td>E U CAN</td>\n",
       "      <td>MNGISS BACT MET BMAT MIN MINE MTAL CMPNY CA AM...</td>\n",
       "      <td>ML.TO</td>\n",
       "      <td>NaN</td>\n",
       "      <td>NaN</td>\n",
       "      <td>S</td>\n",
       "      <td>False</td>\n",
       "      <td>RTRS</td>\n",
       "      <td>EN</td>\n",
       "    </tr>\n",
       "    <tr>\n",
       "      <th>1</th>\n",
       "      <td>2013-06-01</td>\n",
       "      <td>00:00:00.885</td>\n",
       "      <td>20130601000001nS6N0A8042</td>\n",
       "      <td>ALERT</td>\n",
       "      <td>nS6N0A8042</td>\n",
       "      <td>2013-06-01 00:00:01</td>\n",
       "      <td>2013-06-01 00:00:01</td>\n",
       "      <td>S.KOREA SAYS MAY TRADE BALANCE AT PROVISIONAL ...</td>\n",
       "      <td>NaN</td>\n",
       "      <td>NaN</td>\n",
       "      <td>M D T E C MTL GRO SOF O</td>\n",
       "      <td>EMRG KR MCE ECI NEWS TRD ASIA TRACC LEN RTRS</td>\n",
       "      <td>KRIMGR=ECI KRTBAL=ECI 0#KRCOMP1=KQ KREXGR=ECI ...</td>\n",
       "      <td>NaN</td>\n",
       "      <td>NaN</td>\n",
       "      <td>S</td>\n",
       "      <td>False</td>\n",
       "      <td>RTRS</td>\n",
       "      <td>EN</td>\n",
       "    </tr>\n",
       "  </tbody>\n",
       "</table>\n",
       "</div>"
      ],
      "text/plain": [
       "         DATE          TIME        UNIQUE_STORY_INDEX EVENT_TYPE        PNAC  \\\n",
       "0  2013-06-01  00:00:00.704   20130601000000nASA05F0W      ALERT   nASA05F0W   \n",
       "1  2013-06-01  00:00:00.885  20130601000001nS6N0A8042      ALERT  nS6N0A8042   \n",
       "\n",
       "       STORY_DATE_TIME       TAKE_DATE_TIME  \\\n",
       "0  2013-06-01 00:00:00  2013-06-01 00:00:00   \n",
       "1  2013-06-01 00:00:01  2013-06-01 00:00:01   \n",
       "\n",
       "                                 HEADLINE_ALERT_TEXT ACCUMULATED_STORY_TEXT  \\\n",
       "0  MERCATOR MINERALS ANNOUNCES SENIOR MANAGEMENT ...                    NaN   \n",
       "1  S.KOREA SAYS MAY TRADE BALANCE AT PROVISIONAL ...                    NaN   \n",
       "\n",
       "  TAKE_TEXT                 PRODUCTS  \\\n",
       "0       NaN                  E U CAN   \n",
       "1       NaN  M D T E C MTL GRO SOF O   \n",
       "\n",
       "                                              TOPICS  \\\n",
       "0  MNGISS BACT MET BMAT MIN MINE MTAL CMPNY CA AM...   \n",
       "1       EMRG KR MCE ECI NEWS TRD ASIA TRACC LEN RTRS   \n",
       "\n",
       "                                        RELATED_RICS NAMED_ITEMS  \\\n",
       "0                                              ML.TO         NaN   \n",
       "1  KRIMGR=ECI KRTBAL=ECI 0#KRCOMP1=KQ KREXGR=ECI ...         NaN   \n",
       "\n",
       "   HEADLINE_SUBTYPE STORY_TYPE TABULAR_FLAG ATTRIBUTION LANGUAGE  \n",
       "0               NaN          S        False        RTRS       EN  \n",
       "1               NaN          S        False        RTRS       EN  "
      ]
     },
     "execution_count": 21,
     "metadata": {},
     "output_type": "execute_result"
    }
   ],
   "source": [
    "data['df'].head(2)"
   ]
  },
  {
   "cell_type": "code",
   "execution_count": null,
   "metadata": {},
   "outputs": [],
   "source": []
  },
  {
   "cell_type": "code",
   "execution_count": null,
   "metadata": {},
   "outputs": [],
   "source": []
  },
  {
   "cell_type": "code",
   "execution_count": null,
   "metadata": {},
   "outputs": [],
   "source": []
  }
 ],
 "metadata": {
  "kernelspec": {
   "display_name": "Python 3",
   "language": "python",
   "name": "python3"
  },
  "language_info": {
   "codemirror_mode": {
    "name": "ipython",
    "version": 3
   },
   "file_extension": ".py",
   "mimetype": "text/x-python",
   "name": "python",
   "nbconvert_exporter": "python",
   "pygments_lexer": "ipython3",
   "version": "3.6.6"
  }
 },
 "nbformat": 4,
 "nbformat_minor": 5
}
